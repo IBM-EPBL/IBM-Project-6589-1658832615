{
  "nbformat": 4,
  "nbformat_minor": 0,
  "metadata": {
    "colab": {
      "provenance": []
    },
    "kernelspec": {
      "name": "python3",
      "display_name": "Python 3"
    },
    "language_info": {
      "name": "python"
    }
  },
  "cells": [
    {
      "cell_type": "markdown",
      "source": [
        "Importing Keras libraries"
      ],
      "metadata": {
        "id": "55kxUru8y9A4"
      }
    },
    {
      "cell_type": "code",
      "source": [
        "import keras"
      ],
      "metadata": {
        "id": "s_JFU679y-YB"
      },
      "execution_count": null,
      "outputs": []
    },
    {
      "cell_type": "markdown",
      "source": [
        "Importing ImageDataGenerator from Keras\n"
      ],
      "metadata": {
        "id": "l-CvrGoXzHRA"
      }
    },
    {
      "cell_type": "code",
      "source": [
        "from matplotlib import pyplot as plt\n",
        "from keras.preprocessing.image import ImageDataGenerator"
      ],
      "metadata": {
        "id": "yNKQtI7vzH6f"
      },
      "execution_count": null,
      "outputs": []
    },
    {
      "cell_type": "markdown",
      "source": [
        "Defining the Parameters\n"
      ],
      "metadata": {
        "id": "KnsGEmUhzMXn"
      }
    },
    {
      "cell_type": "code",
      "source": [
        "train_datagen=ImageDataGenerator(rescale=1./255,shear_range=0.2,rotation_range=180,zoom_range=0.2,horizontal_flip=True)\n",
        "test_datagen=ImageDataGenerator(rescale=1./255,shear_range=0.2,rotation_range=180,zoom_range=0.2,horizontal_flip=True)"
      ],
      "metadata": {
        "id": "QNXll3KuzM8B"
      },
      "execution_count": null,
      "outputs": []
    },
    {
      "cell_type": "markdown",
      "source": [
        "Applying ImageDataGenerator functionality to train dataset\n"
      ],
      "metadata": {
        "id": "f_1pl8nJzQjb"
      }
    },
    {
      "cell_type": "code",
      "source": [
        "from google.colab import drive\n",
        "drive.mount('/content/drive')"
      ],
      "metadata": {
        "colab": {
          "base_uri": "https://localhost:8080/"
        },
        "id": "gZjl1kl7zSbB",
        "outputId": "a709cf6a-8b09-4798-822d-bca38613f548"
      },
      "execution_count": null,
      "outputs": [
        {
          "output_type": "stream",
          "name": "stdout",
          "text": [
            "Mounted at /content/drive\n"
          ]
        }
      ]
    },
    {
      "cell_type": "code",
      "source": [
        "x_train=train_datagen.flow_from_directory('/content/drive/MyDrive/Dataset Collection',target_size=(64,64),batch_size=32,class_mode='binary')\n"
      ],
      "metadata": {
        "colab": {
          "base_uri": "https://localhost:8080/"
        },
        "id": "oawCpYVWzaVr",
        "outputId": "b32f5273-ea54-49f9-a82d-34dfbce68b58"
      },
      "execution_count": null,
      "outputs": [
        {
          "output_type": "stream",
          "name": "stdout",
          "text": [
            "Found 75 images belonging to 2 classes.\n"
          ]
        }
      ]
    },
    {
      "cell_type": "markdown",
      "source": [
        "Applying ImageDataGenerator functionality to test dataset\n"
      ],
      "metadata": {
        "id": "S3c1WOOwznRX"
      }
    },
    {
      "cell_type": "code",
      "source": [
        "x_test=test_datagen.flow_from_directory('/content/drive/MyDrive/Dataset Collection',target_size=(64,64),batch_size=32,class_mode='binary')\n"
      ],
      "metadata": {
        "colab": {
          "base_uri": "https://localhost:8080/"
        },
        "id": "WMhpfAOBzn7R",
        "outputId": "e358340d-31f3-477c-ae2b-edf50b559f19"
      },
      "execution_count": null,
      "outputs": [
        {
          "output_type": "stream",
          "name": "stdout",
          "text": [
            "Found 75 images belonging to 2 classes.\n"
          ]
        }
      ]
    },
    {
      "cell_type": "markdown",
      "source": [
        "Importing Model Building Libraries\n"
      ],
      "metadata": {
        "id": "tILUidPmzzHG"
      }
    },
    {
      "cell_type": "code",
      "source": [
        "#to define the linear Initialisation import sequential\n",
        "from keras.models import Sequential\n",
        "#to add layers import Dense\n",
        "from keras.layers import Dense\n",
        "#to create Convolutional kernel import convolution2D\n",
        "from keras.layers import Convolution2D\n",
        "#import Maxpooling layer \n",
        "from keras.layers import MaxPooling2D\n",
        "#import flatten layer\n",
        "from keras.layers import Flatten\n",
        "import warnings\n",
        "warnings.filterwarnings('ignore')"
      ],
      "metadata": {
        "id": "MX3BIRomzzo5"
      },
      "execution_count": null,
      "outputs": []
    },
    {
      "cell_type": "markdown",
      "source": [
        "Initializing the model\n"
      ],
      "metadata": {
        "id": "i0uofCS3z5gC"
      }
    },
    {
      "cell_type": "code",
      "source": [
        "model = Sequential()\n"
      ],
      "metadata": {
        "id": "EQzXTBIqz6Sv"
      },
      "execution_count": null,
      "outputs": []
    },
    {
      "cell_type": "markdown",
      "source": [
        "Adding CNN Layers\n"
      ],
      "metadata": {
        "id": "WsWMZrA1z8-4"
      }
    },
    {
      "cell_type": "code",
      "source": [
        "model.add(Convolution2D(32,(3,3),input_shape=(64,64,3),activation='relu'))\n",
        "#add maxpooling layers\n",
        "model.add(MaxPooling2D(pool_size=(2,2)))\n",
        "#add faltten layer\n",
        "model.add(Flatten())"
      ],
      "metadata": {
        "id": "aJkWfXVxz-_0"
      },
      "execution_count": null,
      "outputs": []
    },
    {
      "cell_type": "markdown",
      "source": [
        "Add Dense layers\n"
      ],
      "metadata": {
        "id": "l2ceXGVa0B26"
      }
    },
    {
      "cell_type": "code",
      "source": [
        "#add hidden layers\n",
        "model.add(Dense(150,activation='relu'))\n",
        "#add output layer\n",
        "model.add(Dense(1,activation='sigmoid'))"
      ],
      "metadata": {
        "id": "TS0Daguk0D0x"
      },
      "execution_count": null,
      "outputs": []
    },
    {
      "cell_type": "markdown",
      "source": [
        "configuring the learning process\n"
      ],
      "metadata": {
        "id": "NnS-0fFw0Itt"
      }
    },
    {
      "cell_type": "code",
      "source": [
        "model.compile(loss='binary_crossentropy',optimizer=\"adam\",metrics=[\"accuracy\"])\n"
      ],
      "metadata": {
        "id": "MPa3OjxG0JRP"
      },
      "execution_count": null,
      "outputs": []
    },
    {
      "cell_type": "markdown",
      "source": [
        "Training the model\n"
      ],
      "metadata": {
        "id": "dalW5fFO0MbH"
      }
    },
    {
      "cell_type": "code",
      "source": [
        "model.fit_generator(x_train,steps_per_epoch=14,epochs=10,validation_data=x_test,validation_steps=4)\n"
      ],
      "metadata": {
        "colab": {
          "base_uri": "https://localhost:8080/"
        },
        "id": "3maiXytv0ObX",
        "outputId": "23d45e47-e133-4002-db19-39fed5bdca6e"
      },
      "execution_count": null,
      "outputs": [
        {
          "output_type": "stream",
          "name": "stdout",
          "text": [
            "Epoch 1/10\n",
            " 3/14 [=====>........................] - ETA: 33s - loss: 3.2589 - accuracy: 0.4933"
          ]
        },
        {
          "output_type": "stream",
          "name": "stderr",
          "text": [
            "WARNING:tensorflow:Your input ran out of data; interrupting training. Make sure that your dataset or generator can generate at least `steps_per_epoch * epochs` batches (in this case, 140 batches). You may need to use the repeat() function when building your dataset.\n",
            "WARNING:tensorflow:Your input ran out of data; interrupting training. Make sure that your dataset or generator can generate at least `steps_per_epoch * epochs` batches (in this case, 4 batches). You may need to use the repeat() function when building your dataset.\n"
          ]
        },
        {
          "output_type": "stream",
          "name": "stdout",
          "text": [
            "\b\b\b\b\b\b\b\b\b\b\b\b\b\b\b\b\b\b\b\b\b\b\b\b\b\b\b\b\b\b\b\b\b\b\b\b\b\b\b\b\b\b\b\b\b\b\b\b\b\b\b\b\b\b\b\b\b\b\b\b\b\b\b\b\b\b\b\b\b\b\b\b\b\b\b\b\b\b\b\b\b\b\b\r14/14 [==============================] - 12s 572ms/step - loss: 3.2589 - accuracy: 0.4933 - val_loss: 1.6609 - val_accuracy: 0.6667\n"
          ]
        },
        {
          "output_type": "execute_result",
          "data": {
            "text/plain": [
              "<keras.callbacks.History at 0x7f2c4c5a1610>"
            ]
          },
          "metadata": {},
          "execution_count": 18
        }
      ]
    },
    {
      "cell_type": "markdown",
      "source": [
        "Save the model\n"
      ],
      "metadata": {
        "id": "fe6JOuVd3TLN"
      }
    },
    {
      "cell_type": "code",
      "source": [
        "model.save(\"forest.h5\")\n"
      ],
      "metadata": {
        "id": "4iEvcGXI3W0b"
      },
      "execution_count": null,
      "outputs": []
    },
    {
      "cell_type": "markdown",
      "source": [
        "Predictions"
      ],
      "metadata": {
        "id": "-ZMUvD333bQI"
      }
    },
    {
      "cell_type": "code",
      "source": [
        "#import load model from keras.model\n",
        "from keras.models import load_model\n",
        "#import image from keras\n",
        "from tensorflow.keras.preprocessing import image\n",
        "import numpy as np\n",
        "#import cv2\n",
        "import cv2\n",
        "#load the saved model\n",
        "model=load_model(\"forest.h5\")\n",
        "img=image.load_img('/content/drive/MyDrive/Dataset Collection/test/FIRE_316.jpg')\n",
        "x=image.img_to_array(img)\n",
        "res=cv2.resize(x,dsize=(64,64),interpolation=cv2.INTER_CUBIC)\n",
        "#expand the image shape\n",
        "x=np.expand_dims(res,axis=0)"
      ],
      "metadata": {
        "id": "oMg9CJLM3b--"
      },
      "execution_count": 31,
      "outputs": []
    },
    {
      "cell_type": "code",
      "source": [
        "pred=model.predict(x)\n",
        "pred = int(pred[0][0])\n",
        "pred\n",
        "int(pred)"
      ],
      "metadata": {
        "colab": {
          "base_uri": "https://localhost:8080/"
        },
        "id": "NkOUq85632Nk",
        "outputId": "664dd020-a411-4867-8689-16b31b2b3ae0"
      },
      "execution_count": 32,
      "outputs": [
        {
          "output_type": "stream",
          "name": "stdout",
          "text": [
            "1/1 [==============================] - 0s 136ms/step\n"
          ]
        },
        {
          "output_type": "execute_result",
          "data": {
            "text/plain": [
              "1"
            ]
          },
          "metadata": {},
          "execution_count": 32
        }
      ]
    },
    {
      "cell_type": "code",
      "source": [
        "pip install twilio\n"
      ],
      "metadata": {
        "colab": {
          "base_uri": "https://localhost:8080/"
        },
        "id": "jdQ625Dh36N2",
        "outputId": "fe1d5d19-f5a9-4d28-c5f1-3cd9b61858a4"
      },
      "execution_count": 33,
      "outputs": [
        {
          "output_type": "stream",
          "name": "stdout",
          "text": [
            "Looking in indexes: https://pypi.org/simple, https://us-python.pkg.dev/colab-wheels/public/simple/\n",
            "Collecting twilio\n",
            "  Downloading twilio-7.15.3-py2.py3-none-any.whl (1.4 MB)\n",
            "\u001b[K     |████████████████████████████████| 1.4 MB 13.8 MB/s \n",
            "\u001b[?25hRequirement already satisfied: requests>=2.0.0 in /usr/local/lib/python3.7/dist-packages (from twilio) (2.23.0)\n",
            "Collecting PyJWT<3.0.0,>=2.0.0\n",
            "  Downloading PyJWT-2.6.0-py3-none-any.whl (20 kB)\n",
            "Requirement already satisfied: pytz in /usr/local/lib/python3.7/dist-packages (from twilio) (2022.6)\n",
            "Requirement already satisfied: certifi>=2017.4.17 in /usr/local/lib/python3.7/dist-packages (from requests>=2.0.0->twilio) (2022.9.24)\n",
            "Requirement already satisfied: idna<3,>=2.5 in /usr/local/lib/python3.7/dist-packages (from requests>=2.0.0->twilio) (2.10)\n",
            "Requirement already satisfied: urllib3!=1.25.0,!=1.25.1,<1.26,>=1.21.1 in /usr/local/lib/python3.7/dist-packages (from requests>=2.0.0->twilio) (1.24.3)\n",
            "Requirement already satisfied: chardet<4,>=3.0.2 in /usr/local/lib/python3.7/dist-packages (from requests>=2.0.0->twilio) (3.0.4)\n",
            "Installing collected packages: PyJWT, twilio\n",
            "Successfully installed PyJWT-2.6.0 twilio-7.15.3\n"
          ]
        }
      ]
    },
    {
      "cell_type": "code",
      "source": [
        "from twilio.rest import Client\n"
      ],
      "metadata": {
        "id": "TLxQTbvN3_IE"
      },
      "execution_count": 34,
      "outputs": []
    },
    {
      "cell_type": "code",
      "source": [
        "if pred==0:\n",
        "  print('Forest fire')\n",
        "  account_sid='AC86a85146aa1a0e23e39ab8cd0974f316'\n",
        "  auth_token='9f87b3a5eb8604693d2a9929c73de3ed'\n",
        "  client=Client(account_sid,auth_token)\n",
        "  message=client.messages \\\n",
        "  .create(\n",
        "      body='forest fire is detected,stay alert',\n",
        "      #use twilio free number\n",
        "      from_='+19452533890',\n",
        "      #to number\n",
        "      to='+91 82489 71925')\n",
        "  print(message.sid)\n",
        "  print(\"Fire detected\")\n",
        "  print(\"SMS Sent!\")\n",
        "elif pred==1:\n",
        "  print('No Fire')"
      ],
      "metadata": {
        "colab": {
          "base_uri": "https://localhost:8080/"
        },
        "id": "oq4EsuDq4E6B",
        "outputId": "d2bd477f-80b2-40a4-9656-fc00ed5da47d"
      },
      "execution_count": 35,
      "outputs": [
        {
          "output_type": "stream",
          "name": "stdout",
          "text": [
            "No Fire\n"
          ]
        }
      ]
    },
    {
      "cell_type": "markdown",
      "source": [
        "Open cv for video processing\n"
      ],
      "metadata": {
        "id": "ci2WYgUl7pMq"
      }
    },
    {
      "cell_type": "code",
      "source": [
        "pip install twilio\n"
      ],
      "metadata": {
        "colab": {
          "base_uri": "https://localhost:8080/"
        },
        "id": "AwsQ9riv7pwk",
        "outputId": "0cd0b81b-ec88-4d28-f027-180c0c0aecd1"
      },
      "execution_count": 36,
      "outputs": [
        {
          "output_type": "stream",
          "name": "stdout",
          "text": [
            "Looking in indexes: https://pypi.org/simple, https://us-python.pkg.dev/colab-wheels/public/simple/\n",
            "Requirement already satisfied: twilio in /usr/local/lib/python3.7/dist-packages (7.15.3)\n",
            "Requirement already satisfied: pytz in /usr/local/lib/python3.7/dist-packages (from twilio) (2022.6)\n",
            "Requirement already satisfied: requests>=2.0.0 in /usr/local/lib/python3.7/dist-packages (from twilio) (2.23.0)\n",
            "Requirement already satisfied: PyJWT<3.0.0,>=2.0.0 in /usr/local/lib/python3.7/dist-packages (from twilio) (2.6.0)\n",
            "Requirement already satisfied: chardet<4,>=3.0.2 in /usr/local/lib/python3.7/dist-packages (from requests>=2.0.0->twilio) (3.0.4)\n",
            "Requirement already satisfied: idna<3,>=2.5 in /usr/local/lib/python3.7/dist-packages (from requests>=2.0.0->twilio) (2.10)\n",
            "Requirement already satisfied: urllib3!=1.25.0,!=1.25.1,<1.26,>=1.21.1 in /usr/local/lib/python3.7/dist-packages (from requests>=2.0.0->twilio) (1.24.3)\n",
            "Requirement already satisfied: certifi>=2017.4.17 in /usr/local/lib/python3.7/dist-packages (from requests>=2.0.0->twilio) (2022.9.24)\n"
          ]
        }
      ]
    },
    {
      "cell_type": "code",
      "source": [
        "from logging import WARNING\n",
        "#import opencv library\n",
        "import cv2\n",
        "#import numpy\n",
        "import numpy as np\n",
        "#import image function from keras\n",
        "from keras.preprocessing import image\n",
        "#import load_model from keras\n",
        "from keras.models import load_model\n",
        "#import client from twilio API\n",
        "from twilio.rest import Client\n",
        "#import playsound package"
      ],
      "metadata": {
        "id": "Jr9kF00t7xcR"
      },
      "execution_count": 37,
      "outputs": []
    },
    {
      "cell_type": "markdown",
      "source": [
        "Sending Alert Message\n"
      ],
      "metadata": {
        "id": "txEsAH4H71ym"
      }
    },
    {
      "cell_type": "code",
      "source": [
        "import cv2 \n",
        "import numpy as np\n",
        "from google.colab.patches import cv2_imshow\n",
        "from matplotlib import pyplot as plt\n",
        "import librosa\n",
        "from tensorflow.keras.preprocessing import image\n",
        "from keras.models import load_model\n",
        "# Create a VideoCapture object and read from input file\n",
        "# If the input is the camera, pass 0 instead of the video file name\n",
        "cap = cv2.VideoCapture('/content/drive/MyDrive/test_set/with fire/Forest_Fire (3).jpg')\n",
        " \n",
        "# Check if camera opened successfully\n",
        "if (cap.isOpened()== False): \n",
        "  print(\"Error opening video stream or file\")\n",
        " \n",
        "# Read until video is completed\n",
        "while(cap.isOpened()):\n",
        "  # Capture frame-by-frame\n",
        "  ret, frame = cap.read()\n",
        "  if ret == True:\n",
        "    \n",
        "    cv2_imshow(frame)\n",
        "    x=image.img_to_array(frame)\n",
        "    res=cv2.resize(x,dsize=(64,64),interpolation=cv2.INTER_CUBIC)\n",
        "    #expand the image shape\n",
        "    x=np.expand_dims(res,axis=0)\n",
        "    model=load_model(\"/content/forest.h5\")\n",
        "    pred=model.predict(x)\n",
        "    pred = int(pred[0][0])\n",
        "    pred\n",
        "    int(pred)\n",
        "    if pred==0:\n",
        "      print('Forest fire')\n",
        "      break\n",
        "    else:\n",
        "      print(\"no danger\")\n",
        "      break\n",
        "# When everything done, release the video capture object\n",
        "cap.release()\n",
        " \n",
        "# Closes all the frames\n",
        "cv2.destroyAllWindows()"
      ],
      "metadata": {
        "id": "qCdEfX3u72R-",
        "colab": {
          "base_uri": "https://localhost:8080/"
        },
        "outputId": "0d661479-b520-47b4-8d92-c1edab7b7a0a"
      },
      "execution_count": 38,
      "outputs": [
        {
          "output_type": "stream",
          "name": "stdout",
          "text": [
            "Error opening video stream or file\n"
          ]
        }
      ]
    },
    {
      "cell_type": "code",
      "source": [
        "from twilio.rest import Client\n",
        "if pred==0:\n",
        "  print('Forest fire')\n",
        "  from twilio.rest import Client\n",
        "  account_sid='AC86a85146aa1a0e23e39ab8cd0974f316'\n",
        "  auth_token='9f87b3a5eb8604693d2a9929c73de3ed'\n",
        "  client=Client(account_sid,auth_token)\n",
        "  message=client.messages \\\n",
        "  .create(\n",
        "      body='forest fire is detected,stay alert',\n",
        "      #use twilio free number\n",
        "      from_='+19452533890',\n",
        "      #to number\n",
        "      to='+91 82489 71925')\n",
        "  print(message.sid)\n",
        "  print(\"Fire detected\")\n",
        "  print(\"SMS Sent!\")\n",
        "elif pred==1:\n",
        "  print('No Fire')"
      ],
      "metadata": {
        "colab": {
          "base_uri": "https://localhost:8080/"
        },
        "id": "8K_FDpU0BOz-",
        "outputId": "fcae3654-4a64-4a92-e6f9-5b1beefb7728"
      },
      "execution_count": 39,
      "outputs": [
        {
          "output_type": "stream",
          "name": "stdout",
          "text": [
            "No Fire\n"
          ]
        }
      ]
    },
    {
      "cell_type": "markdown",
      "source": [
        "Image 1"
      ],
      "metadata": {
        "id": "ACwyWCBSBtv3"
      }
    },
    {
      "cell_type": "code",
      "source": [
        "def message(val):\n",
        "  if val==1:\n",
        "    from twilio.rest import Client\n",
        "    print('Forest fire')\n",
        "    account_sid='AC86a85146aa1a0e23e39ab8cd0974f316'\n",
        "    auth_token='9f87b3a5eb8604693d2a9929c73de3ed'\n",
        "    client=Client(account_sid,auth_token)\n",
        "    message=client.messages \\\n",
        "     .create(\n",
        "        body='forest fire is detected, stay alert',\n",
        "        #use twilio free number\n",
        "        from_='+19452533890',\n",
        "        #to number\n",
        "        to='+91 82489 71925')\n",
        "    print(message.sid)\n",
        "    print(\"Fire detected\")\n",
        "    print(\"SMS Sent!\")\n",
        "  elif val==0:\n",
        "    print('No Fire')"
      ],
      "metadata": {
        "id": "qGyajg4MBwdJ"
      },
      "execution_count": 40,
      "outputs": []
    },
    {
      "cell_type": "code",
      "source": [
        "from matplotlib import pyplot as plt\n",
        "#import load model from keras.model\n",
        "from keras.models import load_model\n",
        "#import image from keras\n",
        "from tensorflow.keras.preprocessing import image\n",
        "img1 = image.load_img('/content/drive/MyDrive/Dataset Collection/test/FIRE_316.jpg',target_size=(64,64))\n",
        "Y = image.img_to_array(img1)\n",
        "x = np.expand_dims(Y,axis=0)\n",
        "val = model.predict(x)\n",
        "plt.imshow(img1)\n",
        "plt.show()\n",
        "message(val)"
      ],
      "metadata": {
        "colab": {
          "base_uri": "https://localhost:8080/",
          "height": 355
        },
        "id": "nIQRShbHB-sm",
        "outputId": "38cadd2e-fc39-4bcc-840e-3fdd00b6259d"
      },
      "execution_count": 44,
      "outputs": [
        {
          "output_type": "stream",
          "name": "stdout",
          "text": [
            "1/1 [==============================] - 0s 31ms/step\n"
          ]
        },
        {
          "output_type": "display_data",
          "data": {
            "text/plain": [
              "<Figure size 432x288 with 1 Axes>"
            ],
            "image/png": "[encoded data removed]"
          },
          "metadata": {
            "needs_background": "light"
          }
        },
        {
          "output_type": "stream",
          "name": "stdout",
          "text": [
            "Forest fire\n",
            "SM8baf6e702818d6a7f9e9d0e671c4aebf\n",
            "Fire detected\n",
            "SMS Sent!\n"
          ]
        }
      ]
    },
    {
      "cell_type": "markdown",
      "source": [
        "Image 2"
      ],
      "metadata": {
        "id": "gBNXJOLaDVdD"
      }
    },
    {
      "cell_type": "code",
      "source": [
        "img2 = image.load_img('/content/drive/MyDrive/Dataset Collection/test/FIRE_304.jpg',target_size=(64,64))\n",
        "Y = image.img_to_array(img2)\n",
        "x = np.expand_dims(Y,axis=0)\n",
        "val = model.predict(x)\n",
        "plt.imshow(img2)\n",
        "plt.show()\n",
        "message(val)"
      ],
      "metadata": {
        "colab": {
          "base_uri": "https://localhost:8080/",
          "height": 355
        },
        "id": "z_nfNACkCFkT",
        "outputId": "33a4934c-eeda-4265-86e5-bc8b61cc08c4"
      },
      "execution_count": 49,
      "outputs": [
        {
          "output_type": "stream",
          "name": "stdout",
          "text": [
            "1/1 [==============================] - 0s 33ms/step\n"
          ]
        },
        {
          "output_type": "display_data",
          "data": {
            "text/plain": [
              "<Figure size 432x288 with 1 Axes>"
            ],
            "image/png": "[encoded data removed]"
          },
          "metadata": {
            "needs_background": "light"
          }
        },
        {
          "output_type": "stream",
          "name": "stdout",
          "text": [
            "Forest fire\n",
            "SMd327642b98f570e80891ce7381a8cc02\n",
            "Fire detected\n",
            "SMS Sent!\n"
          ]
        }
      ]
    }
  ]
}